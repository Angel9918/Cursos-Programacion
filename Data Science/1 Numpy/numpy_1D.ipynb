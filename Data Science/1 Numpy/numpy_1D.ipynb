{
 "cells": [
  {
   "cell_type": "code",
   "execution_count": null,
   "metadata": {},
   "outputs": [],
   "source": [
    "import numpy as np\n",
    "\n",
    "arr1 = np.array([0, 1, 2, 3, 4])\n",
    "arr1[0] = 24\n",
    "arr1[4] = 0\n",
    "arr2 = arr1[2:]\n",
    "arr2[0:2] = 300,400 \n",
    "#print(b)\n",
    "\n",
    "arr3 = np.array([1, 2, 3, 4, 5, 6, 7])\n",
    "select = arr3[1::2]\n",
    "#print(select)\n",
    "\n",
    "arr4 = arr3[select]\n",
    "#print(d)\n",
    "\n",
    "arr3[select] = 10000\n",
    "#print(arr)\n",
    "\n",
    "#------------------------------------------\n",
    "\n",
    "nparray1 = np.array([0, 1, 2, 3, 4])\n",
    "# print(e.size) #Tamaño del array\n",
    "# print(e.ndim) #Numero de dimensiones\n",
    "# print(e.shape) #Forma\n",
    "\n",
    "mean = nparray1.mean()\n",
    "#print(mean)\n",
    "standar_deviation = nparray1.std()\n",
    "#print(standar_deviation)\n",
    "max_value = nparray1.max()\n",
    "#print(max_value)\n",
    "min_value = nparray1.min()\n",
    "#print(min_value)\n",
    "\n",
    "#------------------------------------------"
   ]
  },
  {
   "cell_type": "code",
   "execution_count": null,
   "metadata": {},
   "outputs": [],
   "source": [
    "array1 = np.array([1,2,3])\n",
    "array2 = np.array([4,5,6])\n",
    "\n",
    "addi = np.add(array1,array2)\n",
    "print(addi)"
   ]
  },
  {
   "cell_type": "code",
   "execution_count": 2,
   "metadata": {},
   "outputs": [
    {
     "name": "stdout",
     "output_type": "stream",
     "text": [
      "[-40 -40 -40 -40]\n"
     ]
    }
   ],
   "source": [
    "arrsub1 = np.array([20, 30, 40, 50])\n",
    "arrsub2 = np.array([60, 70, 80, 90])\n",
    "\n",
    "subtraction = np.subtract(arrsub1,arrsub2)\n",
    "print(subtraction)"
   ]
  },
  {
   "cell_type": "code",
   "execution_count": 3,
   "metadata": {},
   "outputs": [
    {
     "name": "stdout",
     "output_type": "stream",
     "text": [
      "[ 600 2000 4200]\n"
     ]
    }
   ],
   "source": [
    "arrmult1 = np.array([20, 40, 60])\n",
    "arrmult2 = np.array([30, 50, 70])\n",
    "\n",
    "multiplication = np.multiply(arrmult1,arrmult2)\n",
    "print(multiplication)"
   ]
  },
  {
   "cell_type": "code",
   "execution_count": 6,
   "metadata": {},
   "outputs": [
    {
     "name": "stdout",
     "output_type": "stream",
     "text": [
      "[5. 3. 3.]\n"
     ]
    }
   ],
   "source": [
    "arrdiv1 = np.array([10, 20, 30])\n",
    "arrdiv2 =np.array([50, 60,90])\n",
    "\n",
    "division = np.divide(arrdiv2,arrdiv1)\n",
    "print(division)"
   ]
  },
  {
   "cell_type": "code",
   "execution_count": 9,
   "metadata": {},
   "outputs": [
    {
     "name": "stdout",
     "output_type": "stream",
     "text": [
      "69\n"
     ]
    }
   ],
   "source": [
    "arrdot1 = np.array([2,3,4,5])\n",
    "arrdot2 = np.array([4,6,2,7])\n",
    "\n",
    "dotproduct = np.dot(arrdot1,arrdot2)\n",
    "print(dotproduct)"
   ]
  },
  {
   "cell_type": "code",
   "execution_count": 10,
   "metadata": {},
   "outputs": [
    {
     "name": "stdout",
     "output_type": "stream",
     "text": [
      "[ 9 11  7 13 15]\n"
     ]
    }
   ],
   "source": [
    "arradd = np.array([3,5,1,7,9])\n",
    "number = 6\n",
    "\n",
    "addConstant = arradd + number\n",
    "print(addConstant)"
   ]
  },
  {
   "cell_type": "code",
   "execution_count": 11,
   "metadata": {},
   "outputs": [
    {
     "name": "stdout",
     "output_type": "stream",
     "text": [
      "[0.0000000e+00 1.2246468e-16 1.0000000e+00]\n"
     ]
    }
   ],
   "source": [
    "arr = np.array([0, np.pi, np.pi/2])\n",
    "y = np.sin(arr)\n",
    "print(y)"
   ]
  },
  {
   "cell_type": "code",
   "execution_count": 24,
   "metadata": {},
   "outputs": [
    {
     "name": "stdout",
     "output_type": "stream",
     "text": [
      "[<matplotlib.lines.Line2D object at 0x0000015115110590>]\n"
     ]
    },
    {
     "data": {
      "image/png": "[encoded data removed]",
      "text/plain": [
       "<Figure size 640x480 with 1 Axes>"
      ]
     },
     "metadata": {},
     "output_type": "display_data"
    }
   ],
   "source": [
    "import matplotlib.pyplot as plt\n",
    "# np.linspace(-10,10,num=5) #Genera el numero de intervalos especificado dentro de un rango dado\n",
    "\n",
    "x = np.linspace(0, 2*np.pi, num=100)\n",
    "y = np.sin(x)\n",
    "\n",
    "print(plt.plot(x,y))\n"
   ]
  },
  {
   "cell_type": "code",
   "execution_count": 25,
   "metadata": {},
   "outputs": [
    {
     "name": "stdout",
     "output_type": "stream",
     "text": [
      "[1 2 3]\n",
      "1\n",
      "2\n",
      "3\n"
     ]
    }
   ],
   "source": [
    "arr_for = np.array([1, 2, 3])\n",
    "print(arr_for)\n",
    "\n",
    "for x in arr_for:\n",
    "    print(x)"
   ]
  },
  {
   "cell_type": "code",
   "execution_count": 26,
   "metadata": {},
   "outputs": [
    {
     "name": "stdout",
     "output_type": "stream",
     "text": [
      "[ 9 11 13]\n",
      "[-7 -7 -7]\n",
      "[ 8 18 30]\n",
      "[0.125      0.22222222 0.3       ]\n",
      "56\n"
     ]
    }
   ],
   "source": [
    "arr1 = np.array([1,2,3])\n",
    "arr2 = np.array([8,9,10])\n",
    "\n",
    "print(np.add(arr1,arr2))\n",
    "print(np.subtract(arr1,arr2))\n",
    "print(np.multiply(arr1,arr2))\n",
    "print(np.divide(arr1,arr2))\n",
    "print(np.dot(arr1,arr2))"
   ]
  },
  {
   "cell_type": "code",
   "execution_count": 27,
   "metadata": {},
   "outputs": [
    {
     "name": "stdout",
     "output_type": "stream",
     "text": [
      "[2 4]\n",
      "[ 6  8 10]\n",
      "[1 3 5]\n",
      "[7 9]\n"
     ]
    }
   ],
   "source": [
    "arr1 = np.array([1,2,3,4,5])\n",
    "arr2 = np.array([6,7,8,9,10])\n",
    "\n",
    "even1 = arr1[1::2]\n",
    "print(even1)\n",
    "even2 = arr2[0::2]\n",
    "print(even2)\n",
    "odd1 = arr1[0::2]\n",
    "print(odd1)\n",
    "odd2 = arr2[1::2]\n",
    "print(odd2)"
   ]
  },
  {
   "cell_type": "code",
   "execution_count": 28,
   "metadata": {},
   "outputs": [
    {
     "name": "stdout",
     "output_type": "stream",
     "text": [
      "Dot product: 0\n"
     ]
    },
    {
     "data": {
      "image/png": "[encoded data removed]",
      "text/plain": [
       "<Figure size 640x480 with 1 Axes>"
      ]
     },
     "metadata": {},
     "output_type": "display_data"
    }
   ],
   "source": [
    "import time \n",
    "import sys\n",
    "import numpy as np \n",
    "\n",
    "import matplotlib.pyplot as plt\n",
    "%matplotlib inline  \n",
    "\n",
    "def Plotvec2(a,b):\n",
    "    ax = plt.axes()# to generate the full window axes\n",
    "    ax.arrow(0, 0, *a, head_width=0.05, color ='r', head_length=0.1)#Add an arrow to the  a Axes with arrow head width 0.05, color red and arrow head length 0.1\n",
    "    plt.text(*(a + 0.1), 'a')\n",
    "    ax.arrow(0, 0, *b, head_width=0.05, color ='b', head_length=0.1)#Add an arrow to the  b Axes with arrow head width 0.05, color blue and arrow head length 0.1\n",
    "    plt.text(*(b + 0.1), 'b')\n",
    "    plt.ylim(-2, 2)#set the ylim to bottom(-2), top(2)\n",
    "    plt.xlim(-2, 2)#set the xlim to left(-2), right(2)\n",
    "\n",
    "a =np.array([-1,1])\n",
    "b = np.array([1,1])\n",
    "print('Dot product:',np.dot(a,b))\n",
    "Plotvec2(a,b)"
   ]
  },
  {
   "cell_type": "code",
   "execution_count": 30,
   "metadata": {},
   "outputs": [
    {
     "data": {
      "image/png": "[encoded data removed]",
      "text/plain": [
       "<Figure size 640x480 with 1 Axes>"
      ]
     },
     "metadata": {},
     "output_type": "display_data"
    }
   ],
   "source": [
    "import time \n",
    "import sys\n",
    "import numpy as np \n",
    "\n",
    "import matplotlib.pyplot as plt\n",
    "%matplotlib inline  \n",
    "\n",
    "def Plotvec1(u, z, v):\n",
    "    \n",
    "    ax = plt.axes() # to generate the full window axes\n",
    "    ax.arrow(0, 0, *u, head_width=0.05, color='r', head_length=0.1)# Add an arrow to the  U Axes with arrow head width 0.05, color red and arrow head length 0.1\n",
    "    plt.text(*(u + 0.1), 'u')#Adds the text u to the Axes \n",
    "    \n",
    "    ax.arrow(0, 0, *v, head_width=0.05, color='b', head_length=0.1)# Add an arrow to the  v Axes with arrow head width 0.05, color red and arrow head length 0.1\n",
    "    plt.text(*(v + 0.1), 'v')#Adds the text v to the Axes \n",
    "    \n",
    "    ax.arrow(0, 0, *z, head_width=0.05, head_length=0.1)\n",
    "    plt.text(*(z + 0.1), 'z')#Adds the text z to the Axes \n",
    "    plt.ylim(-2, 2)#set the ylim to bottom(-2), top(2)\n",
    "    plt.xlim(-2, 2)#set the xlim to left(-2), right(2)\n",
    "\n",
    "u = np.array([1, 0])\n",
    "v = np.array([0, 1])\n",
    "z = np.add(u, v)\n",
    "Plotvec1(u, v, z)"
   ]
  }
 ],
 "metadata": {
  "kernelspec": {
   "display_name": "Python 3",
   "language": "python",
   "name": "python3"
  },
  "language_info": {
   "codemirror_mode": {
    "name": "ipython",
    "version": 3
   },
   "file_extension": ".py",
   "mimetype": "text/x-python",
   "name": "python",
   "nbconvert_exporter": "python",
   "pygments_lexer": "ipython3",
   "version": "3.11.3"
  },
  "orig_nbformat": 4
 },
 "nbformat": 4,
 "nbformat_minor": 2
}
