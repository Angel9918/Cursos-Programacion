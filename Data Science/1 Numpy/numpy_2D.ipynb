{
 "cells": [
  {
   "cell_type": "code",
   "execution_count": 14,
   "metadata": {},
   "outputs": [
    {
     "data": {
      "text/plain": [
       "array([13, 23])"
      ]
     },
     "execution_count": 14,
     "metadata": {},
     "output_type": "execute_result"
    }
   ],
   "source": [
    "import numpy as np\n",
    "import matplotlib.pyplot as plt\n",
    "\n",
    "a = np.array([[11, 12, 13], [21, 22, 23], [31, 32, 33]])\n",
    "a.ndim #Imprime el numero de dimensiones de un array\n",
    "a.shape\n",
    "a.size\n",
    "\n",
    "a[1,2] #Fila, Columna\n",
    "a[1][2]\n",
    "\n",
    "a[0][0:2] # Primeros dos valores de la primera fila\n",
    "a[0:2,2] # Primeros dos valores de la ultima columna\n",
    "\n"
   ]
  },
  {
   "cell_type": "code",
   "execution_count": 15,
   "metadata": {},
   "outputs": [
    {
     "data": {
      "text/plain": [
       "array([[3, 1],\n",
       "       [1, 3]])"
      ]
     },
     "execution_count": 15,
     "metadata": {},
     "output_type": "execute_result"
    }
   ],
   "source": [
    "add_x = np.array([[1,0],[0,1]])\n",
    "add_y = np.array([[2,1],[1,2]])\n",
    "\n",
    "Z = add_x + add_y\n",
    "Z\n",
    "\n",
    "addition = np.add(add_x,add_y)\n",
    "addition"
   ]
  },
  {
   "cell_type": "code",
   "execution_count": 21,
   "metadata": {},
   "outputs": [
    {
     "data": {
      "text/plain": [
       "array([[10,  3],\n",
       "       [ 3, 10]])"
      ]
     },
     "execution_count": 21,
     "metadata": {},
     "output_type": "execute_result"
    }
   ],
   "source": [
    "multi_Y = np.array([[2,1],[1,2]])\n",
    "number = 4\n",
    "\n",
    "Z = number * multi_Y\n",
    "Z\n",
    "\n",
    "multiplication_scalar = np.multiply(multi_Y,number)\n",
    "multiplication_scalar\n",
    "\n",
    "multi_X = np.array([[5,3],[3,5]])\n",
    "multip = np.multiply(multi_Y,multi_X)\n",
    "multip\n",
    "\n",
    "result = multi_Y * multi_X\n",
    "result"
   ]
  },
  {
   "cell_type": "code",
   "execution_count": 23,
   "metadata": {},
   "outputs": [
    {
     "data": {
      "text/plain": [
       "array([[0.        , 0.90929743],\n",
       "       [0.        , 0.90929743]])"
      ]
     },
     "execution_count": 23,
     "metadata": {},
     "output_type": "execute_result"
    }
   ],
   "source": [
    "A = np.array([[0, 1, 1], [1, 0, 1]])\n",
    "B = np.array([[1, 1], [1, 1], [-1, 1]])\n",
    "\n",
    "Z = np.dot(A,B)\n",
    "Z\n",
    "\n",
    "np.sin(Z)"
   ]
  },
  {
   "cell_type": "code",
   "execution_count": 27,
   "metadata": {},
   "outputs": [
    {
     "data": {
      "text/plain": [
       "array([[1, 2, 3],\n",
       "       [1, 2, 3]])"
      ]
     },
     "execution_count": 27,
     "metadata": {},
     "output_type": "execute_result"
    }
   ],
   "source": [
    "#Transpuesta\n",
    "\n",
    "C = np.array([[1,1],[2,2],[3,3]])\n",
    "C.T\n"
   ]
  }
 ],
 "metadata": {
  "kernelspec": {
   "display_name": "Python 3",
   "language": "python",
   "name": "python3"
  },
  "language_info": {
   "codemirror_mode": {
    "name": "ipython",
    "version": 3
   },
   "file_extension": ".py",
   "mimetype": "text/x-python",
   "name": "python",
   "nbconvert_exporter": "python",
   "pygments_lexer": "ipython3",
   "version": "3.11.3"
  },
  "orig_nbformat": 4
 },
 "nbformat": 4,
 "nbformat_minor": 2
}
