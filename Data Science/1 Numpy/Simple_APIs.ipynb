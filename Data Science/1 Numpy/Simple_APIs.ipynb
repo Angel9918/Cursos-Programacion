{
 "cells": [
  {
   "attachments": {},
   "cell_type": "markdown",
   "metadata": {},
   "source": [
    "SIMPLE APIs"
   ]
  },
  {
   "attachments": {},
   "cell_type": "markdown",
   "metadata": {},
   "source": [
    "RandomUsers"
   ]
  },
  {
   "cell_type": "code",
   "execution_count": 2,
   "metadata": {},
   "outputs": [
    {
     "name": "stdout",
     "output_type": "stream",
     "text": [
      "https://randomuser.me/api/portraits/women/55.jpg\n",
      "https://randomuser.me/api/portraits/women/68.jpg\n",
      "https://randomuser.me/api/portraits/women/87.jpg\n",
      "https://randomuser.me/api/portraits/women/21.jpg\n",
      "https://randomuser.me/api/portraits/men/89.jpg\n"
     ]
    }
   ],
   "source": [
    "from randomuser import RandomUser\n",
    "import pandas as pd\n",
    "\n",
    "r = RandomUser()\n",
    "lista_usuarios = r.generate_users(5)\n",
    "\n",
    "for user in lista_usuarios:\n",
    "    print(user.get_picture())"
   ]
  },
  {
   "cell_type": "code",
   "execution_count": 3,
   "metadata": {},
   "outputs": [
    {
     "data": {
      "text/html": [
       "<div>\n",
       "<style scoped>\n",
       "    .dataframe tbody tr th:only-of-type {\n",
       "        vertical-align: middle;\n",
       "    }\n",
       "\n",
       "    .dataframe tbody tr th {\n",
       "        vertical-align: top;\n",
       "    }\n",
       "\n",
       "    .dataframe thead th {\n",
       "        text-align: right;\n",
       "    }\n",
       "</style>\n",
       "<table border=\"1\" class=\"dataframe\">\n",
       "  <thead>\n",
       "    <tr style=\"text-align: right;\">\n",
       "      <th></th>\n",
       "      <th>Name</th>\n",
       "      <th>Gender</th>\n",
       "      <th>City</th>\n",
       "    </tr>\n",
       "  </thead>\n",
       "  <tbody>\n",
       "    <tr>\n",
       "      <th>0</th>\n",
       "      <td>Alexander Lévesque</td>\n",
       "      <td>male</td>\n",
       "      <td>Melbourne</td>\n",
       "    </tr>\n",
       "    <tr>\n",
       "      <th>1</th>\n",
       "      <td>Samir Lecomte</td>\n",
       "      <td>male</td>\n",
       "      <td>Steinhausen</td>\n",
       "    </tr>\n",
       "    <tr>\n",
       "      <th>2</th>\n",
       "      <td>Kylian Carpentier</td>\n",
       "      <td>male</td>\n",
       "      <td>Asnières-sur-Seine</td>\n",
       "    </tr>\n",
       "    <tr>\n",
       "      <th>3</th>\n",
       "      <td>Gonca Karabulut</td>\n",
       "      <td>female</td>\n",
       "      <td>Karabük</td>\n",
       "    </tr>\n",
       "    <tr>\n",
       "      <th>4</th>\n",
       "      <td>Nadia Denis</td>\n",
       "      <td>female</td>\n",
       "      <td>Sutz-Lattrigen</td>\n",
       "    </tr>\n",
       "    <tr>\n",
       "      <th>5</th>\n",
       "      <td>Jitendra Silva</td>\n",
       "      <td>male</td>\n",
       "      <td>Barueri</td>\n",
       "    </tr>\n",
       "    <tr>\n",
       "      <th>6</th>\n",
       "      <td>Leana Rodriguez</td>\n",
       "      <td>female</td>\n",
       "      <td>Poitiers</td>\n",
       "    </tr>\n",
       "    <tr>\n",
       "      <th>7</th>\n",
       "      <td>Noémie Roy</td>\n",
       "      <td>female</td>\n",
       "      <td>Stratford</td>\n",
       "    </tr>\n",
       "    <tr>\n",
       "      <th>8</th>\n",
       "      <td>Emre Arslanoğlu</td>\n",
       "      <td>male</td>\n",
       "      <td>Nevşehir</td>\n",
       "    </tr>\n",
       "    <tr>\n",
       "      <th>9</th>\n",
       "      <td>Sienna White</td>\n",
       "      <td>female</td>\n",
       "      <td>Whanganui</td>\n",
       "    </tr>\n",
       "  </tbody>\n",
       "</table>\n",
       "</div>"
      ],
      "text/plain": [
       "                 Name  Gender                City\n",
       "0  Alexander Lévesque    male           Melbourne\n",
       "1       Samir Lecomte    male         Steinhausen\n",
       "2   Kylian Carpentier    male  Asnières-sur-Seine\n",
       "3     Gonca Karabulut  female             Karabük\n",
       "4         Nadia Denis  female      Sutz-Lattrigen\n",
       "5      Jitendra Silva    male             Barueri\n",
       "6     Leana Rodriguez  female            Poitiers\n",
       "7          Noémie Roy  female           Stratford\n",
       "8     Emre Arslanoğlu    male            Nevşehir\n",
       "9        Sienna White  female           Whanganui"
      ]
     },
     "execution_count": 3,
     "metadata": {},
     "output_type": "execute_result"
    }
   ],
   "source": [
    "def get_users():\n",
    "    users= []\n",
    "\n",
    "    for user in RandomUser.generate_users(10):\n",
    "        users.append({'Name': user.get_full_name(),\n",
    "                      'Gender': user.get_gender(),\n",
    "                      'City': user.get_city()})\n",
    "        \n",
    "    return pd.DataFrame(users)\n",
    "\n",
    "get_users()\n",
    "df1 = pd.DataFrame(get_users())"
   ]
  },
  {
   "attachments": {},
   "cell_type": "markdown",
   "metadata": {},
   "source": [
    "FruitVice"
   ]
  },
  {
   "cell_type": "code",
   "execution_count": 12,
   "metadata": {},
   "outputs": [
    {
     "data": {
      "text/plain": [
       "1.0"
      ]
     },
     "execution_count": 12,
     "metadata": {},
     "output_type": "execute_result"
    }
   ],
   "source": [
    "import requests\n",
    "import json\n",
    "\n",
    "data = requests.get(\"https://fruityvice.com/api/fruit/all\")\n",
    "results = json.loads(data.text)\n",
    "pd.DataFrame(results)\n",
    "df2 = pd.json_normalize(results)\n",
    "df2.head()\n",
    "\n",
    "banana = df2.loc[df2['name']==\"Banana\"]\n",
    "banana.iloc[0]['nutritions.protein']"
   ]
  }
 ],
 "metadata": {
  "kernelspec": {
   "display_name": "Python 3",
   "language": "python",
   "name": "python3"
  },
  "language_info": {
   "codemirror_mode": {
    "name": "ipython",
    "version": 3
   },
   "file_extension": ".py",
   "mimetype": "text/x-python",
   "name": "python",
   "nbconvert_exporter": "python",
   "pygments_lexer": "ipython3",
   "version": "3.11.-1"
  },
  "orig_nbformat": 4
 },
 "nbformat": 4,
 "nbformat_minor": 2
}
