{
 "cells": [
  {
   "cell_type": "code",
   "execution_count": null,
   "metadata": {},
   "outputs": [],
   "source": [
    "import pandas as pd\n",
    "import warnings\n",
    "warnings.filterwarnings('ignore')\n",
    "\n",
    "df_cerveza = pd.read_csv('JuegoCerveza.csv')\n",
    "datos = pd.DataFrame ({'demandaRetail': df_cerveza['R_demanda'], 'demandaMayorista': df_cerveza['M_demanda']})"
   ]
  },
  {
   "cell_type": "code",
   "execution_count": 10,
   "metadata": {},
   "outputs": [
    {
     "name": "stdout",
     "output_type": "stream",
     "text": [
      "Pendiente: 0.6718\n",
      "y-intercepto: 0.8808\n",
      "entonces\n",
      " f(x) = 0.6718x + 0.880791\n",
      "   demandaRetail  demandaMayorista        fx     error\n",
      "0              4                 2  3.567797  1.567797\n",
      "1              2                 1  2.224294  1.224294\n",
      "2              2                 1  2.224294  1.224294\n",
      "3              4                 2  3.567797  1.567797\n",
      "4              4                 3  3.567797  0.567797\n"
     ]
    },
    {
     "data": {
      "image/png": "[encoded data removed]",
      "text/plain": [
       "<Figure size 640x480 with 1 Axes>"
      ]
     },
     "metadata": {},
     "output_type": "display_data"
    }
   ],
   "source": [
    "from scipy import stats\n",
    "import matplotlib.pyplot as plt\n",
    "\n",
    "df_regresion = datos[['demandaMayorista','demandaRetail']].copy()\n",
    "m,b,r,p,se = stats.linregress(df_regresion['demandaRetail'],df_regresion['demandaMayorista'])\n",
    "\n",
    "print('Pendiente: {:.4f}\\ny-intercepto: {:.4f}'.format(m,b))\n",
    "print('entonces\\n f(x) = {:.4f}x + {:4,f}'.format(m,b))\n",
    "pendiente = m\n",
    "intercepto = b\n",
    "df_regresion['fx'] = (m * df_regresion['demandaRetail']) + b\n",
    "df_regresion['error'] = df_regresion['fx'] - df_regresion['demandaMayorista']\n",
    "\n",
    "df_regresion.plot.scatter(x='demandaRetail',y='demandaMayorista')\n",
    "\n",
    "plt.plot(df_regresion['demandaRetail'], df_regresion['fx'], color = 'red')\n",
    "print((df_regresion[['demandaRetail','demandaMayorista','fx','error']]).head())\n",
    "plt.show()"
   ]
  },
  {
   "cell_type": "code",
   "execution_count": 14,
   "metadata": {},
   "outputs": [
    {
     "name": "stdout",
     "output_type": "stream",
     "text": [
      "Una demanda de 5 en el Retail puede resultar en una demanda esperada por el Mayorista de 4\n"
     ]
    }
   ],
   "source": [
    "def f(x):\n",
    "    m = 0.6718\n",
    "    b = 0.8808\n",
    "    return m*x+b\n",
    "\n",
    "demandaRetail = int(5)\n",
    "\n",
    "prediccion = f(demandaRetail)\n",
    "\n",
    "demandaMayorista_esperado = round(max(0,min(10000,prediccion)))\n",
    "\n",
    "print('Una demanda de {} en el Retail puede resultar en una demanda esperada por el Mayorista de {}'.format(demandaRetail,demandaMayorista_esperado))\n"
   ]
  },
  {
   "cell_type": "code",
   "execution_count": null,
   "metadata": {},
   "outputs": [],
   "source": [
    "\"\"\" import matplotlib.pyplot as plt\n",
    "\n",
    "fig,ax = plt.subplots(figsize=(6,4))\n",
    "datos.plot(\n",
    "    x = 'demandaRetail',\n",
    "    y = 'demandaMayorista',\n",
    "    c = 'blue',\n",
    "    kind = 'scatter',\n",
    "    ax = ax\n",
    ")\n",
    "\n",
    "ax.set_title('Relacion demanda e inventario') \"\"\""
   ]
  },
  {
   "cell_type": "code",
   "execution_count": null,
   "metadata": {},
   "outputs": [],
   "source": [
    "\"\"\" from scipy.stats import pearsonr\n",
    "\n",
    "corr_test = pearsonr(x=datos['demandaRetail'], y=datos['demandaMayorista'])\n",
    "print(\"Coeficiente de correlacion de Pearson:\",corr_test[0])\n",
    "print(\"P-value:\",corr_test[1]) \"\"\""
   ]
  },
  {
   "cell_type": "code",
   "execution_count": null,
   "metadata": {},
   "outputs": [],
   "source": [
    "\"\"\" from sklearn.linear_model import LinearRegression\n",
    "from sklearn.model_selection import train_test_split\n",
    "from sklearn.metrics import r2_score\n",
    "from sklearn.metrics import mean_squared_error\n",
    "\n",
    "X = datos[['demandaRetail']]\n",
    "y = datos[['demandaMayorista']]\n",
    "\n",
    "X_train , X_test, y_train, y_test = train_test_split(\n",
    "    X.values.reshape(-1,1),\n",
    "    y.values.reshape(-1,1),\n",
    "    train_size = 0.8,\n",
    "    random_state = 1234,\n",
    "    shuffle=True\n",
    ")\n",
    "\n",
    "modelo = LinearRegression()\n",
    "modelo.fit(X = X_train.reshape(-1,1), y=y_train)\n",
    "\n",
    "print(\"Intercept:\", modelo.intercept_)\n",
    "print(\"Ceoficiente:\", list(zip(X.columns, modelo.coef_.flatten(),)))\n",
    "print(\"Coeficiente de deternminacion R^2:\", modelo.score(X,y)) \"\"\""
   ]
  }
 ],
 "metadata": {
  "kernelspec": {
   "display_name": "Python 3",
   "language": "python",
   "name": "python3"
  },
  "language_info": {
   "codemirror_mode": {
    "name": "ipython",
    "version": 3
   },
   "file_extension": ".py",
   "mimetype": "text/x-python",
   "name": "python",
   "nbconvert_exporter": "python",
   "pygments_lexer": "ipython3",
   "version": "3.11.4"
  },
  "orig_nbformat": 4
 },
 "nbformat": 4,
 "nbformat_minor": 2
}
